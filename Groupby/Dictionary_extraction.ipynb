{
 "cells": [
  {
   "cell_type": "code",
   "execution_count": 310,
   "metadata": {},
   "outputs": [],
   "source": [
    "import pandas as pd\n",
    "data = pd.read_csv(r'C:\\Users\\Anil\\Downloads\\order.csv')"
   ]
  },
  {
   "cell_type": "code",
   "execution_count": 311,
   "metadata": {},
   "outputs": [
    {
     "data": {
      "text/plain": [
       "Index(['__v', '_id', '_index', '_score', '_type', 'createdAt', 'customer',\n",
       "       'orderItems', 'resto', 'total', 'updatedAt'],\n",
       "      dtype='object')"
      ]
     },
     "execution_count": 311,
     "metadata": {},
     "output_type": "execute_result"
    }
   ],
   "source": [
    "data.columns"
   ]
  },
  {
   "cell_type": "code",
   "execution_count": 312,
   "metadata": {},
   "outputs": [],
   "source": [
    "data1 = data[[\"_id\",\"orderItems\"]]"
   ]
  },
  {
   "cell_type": "code",
   "execution_count": 313,
   "metadata": {},
   "outputs": [],
   "source": [
    "y = {'_id':'0','O_id':'0','price':0,'product':'','quantity': 1}\n",
    "y = pd.DataFrame([y])\n",
    "k = {'_id':'0','O_id':'0','price':0,'product':'','quantity': 1}\n",
    "k = pd.DataFrame([k])"
   ]
  },
  {
   "cell_type": "code",
   "execution_count": 314,
   "metadata": {},
   "outputs": [
    {
     "name": "stdout",
     "output_type": "stream",
     "text": [
      "                        O_id                       _id  price  \\\n",
      "0                          0                         0    0.0   \n",
      "0   5da71cb32752108bf71469ea  5da71cb3275210218f1469e8    5.0   \n",
      "0   5da71cb3275210aa0b1469e9  5da71cb3275210218f1469e8    4.0   \n",
      "0   5dc04a5873bfc34b684d1ab5  5dc04a5873bfc341b54d1ab4    4.7   \n",
      "0   5dc04b7373bfc3e9124d1ab9  5dc04b7373bfc3b6304d1ab8    4.7   \n",
      "0   5dc28ca7e17ef533188568db  5dc28ca7e17ef5373f8568da    4.9   \n",
      "0   5dc28fc0e17ef537b88568df  5dc28fc0e17ef5650a8568de    5.0   \n",
      "0   5dc29474e17ef5b0438568e3  5dc29474e17ef5a3ee8568e2    5.0   \n",
      "0   5dc29559e17ef5818d8568e7  5dc29559e17ef5d68d8568e6    4.0   \n",
      "0   5dc296e3e17ef537138568eb  5dc296e3e17ef537588568ea    4.0   \n",
      "0   5dc29a50e17ef57a068568ef  5dc29a50e17ef5d4bf8568ee    6.2   \n",
      "0   5dc29c75e17ef5952b8568f3  5dc29c75e17ef57b818568f2    6.2   \n",
      "0   5dc29ee7e17ef576e58568f7  5dc29ee7e17ef57e458568f6    6.2   \n",
      "0   5dc29f9de17ef592f48568fb  5dc29f9de17ef53a6f8568fa    6.2   \n",
      "0   5dc2c1a4e17ef53e178568ff  5dc2c1a4e17ef517148568fe    4.0   \n",
      "0   5dc2e8e4e17ef56550856903  5dc2e8e4e17ef557af856902    4.7   \n",
      "0   5dc3f53ee17ef540de856907  5dc3f53ee17ef5327f856906    4.9   \n",
      "0   5dc3f8b8e17ef5650a85690b  5dc3f8b8e17ef564d385690a    6.2   \n",
      "0   5dc3f992e17ef54fed85690f  5dc3f992e17ef51c9a85690e    6.2   \n",
      "0   5dc40f71e17ef59cb8856913  5dc40f71e17ef50570856912    9.0   \n",
      "0   5dc41224e17ef56820856917  5dc41224e17ef50322856916    5.0   \n",
      "0   5dc4163de17ef5621a85691b  5dc4163de17ef5a57085691a   10.0   \n",
      "0   5dc418eee17ef57e1885691f  5dc418eee17ef50be185691e   10.0   \n",
      "0   5dc419bee17ef528c1856921  5dc419bee17ef5be05856920   10.0   \n",
      "0   5dc4227de17ef56c19856928  5dc4227de17ef533d7856927   10.9   \n",
      "0   5dc9226ef7bf017cd8e113cc  5dc9226ef7bf0195d3e113cb   10.0   \n",
      "0   5de133406b9f995cfc14125e  5de133406b9f99eef914125d   15.0   \n",
      "0   5de7684cbd9e527954f91a40  5de7684cbd9e52fdcff91a3f   10.0   \n",
      "0   5df7551e8586fd70027f7ce5  5df7551e8586fd67417f7ce4   10.0   \n",
      "0   5df75dab8586fd40fc7f7ce7  5df75dab8586fd50ce7f7ce6   10.0   \n",
      "..                       ...                       ...    ...   \n",
      "0   5dc146d173bfc342094d1abb  5dc146d173bfc344014d1aba    4.9   \n",
      "0   5dc28db3e17ef570fd8568dd  5dc28db3e17ef55d928568dc    5.0   \n",
      "0   5dc28fdde17ef5da228568e1  5dc28fdde17ef51e068568e0    4.0   \n",
      "0   5dc294dfe17ef56b8c8568e5  5dc294dfe17ef53ff28568e4    5.0   \n",
      "0   5dc296bde17ef5c4d38568e9  5dc296bde17ef5356a8568e8    4.0   \n",
      "0   5dc29792e17ef5b61c8568ed  5dc29792e17ef586598568ec    6.2   \n",
      "0   5dc29c4fe17ef525c18568f1  5dc29c4fe17ef545d78568f0    6.2   \n",
      "0   5dc29d5fe17ef5f6b98568f5  5dc29d5fe17ef596fa8568f4    6.2   \n",
      "0   5dc29f0ae17ef5ba8c8568f9  5dc29f0ae17ef569ac8568f8    6.2   \n",
      "0   5dc2a003e17ef576038568fd  5dc2a003e17ef5af618568fc    4.0   \n",
      "0   5dc2e863e17ef534cb856901  5dc2e863e17ef50ddf856900    6.2   \n",
      "0   5dc3e5a7e17ef5907b856905  5dc3e5a7e17ef51d85856904    6.2   \n",
      "0   5dc3f68ae17ef570cf856909  5dc3f68ae17ef59728856908    4.7   \n",
      "0   5dc3f919e17ef5606185690d  5dc3f919e17ef50c9a85690c    4.7   \n",
      "0   5dc40497e17ef5cf2e856911  5dc40497e17ef57e82856910   10.9   \n",
      "0   5dc4101ae17ef51785856915  5dc4101ae17ef52bc5856914   10.0   \n",
      "0   5dc41290e17ef57c41856919  5dc41290e17ef52deb856918    6.2   \n",
      "0   5dc41702e17ef53b3c85691d  5dc41702e17ef5123685691c    4.5   \n",
      "0   5dc41b6ce17ef59aca856923  5dc41b6ce17ef57987856922   10.0   \n",
      "0   5dc420d2e17ef50691856926  5dc420d2e17ef5eef4856924   10.9   \n",
      "0   5dc420d2e17ef55d32856925  5dc420d2e17ef5eef4856924    8.5   \n",
      "0   5dc92386f7bf01d033e113ce  5dc92386f7bf014c2ee113cd   10.0   \n",
      "0   5dcd73eaf7bf011731e113d1  5dcd73eaf7bf014aa0e113cf    5.0   \n",
      "0   5dcd73eaf7bf0175b8e113d0  5dcd73eaf7bf014aa0e113cf    4.0   \n",
      "0   5df7453c8586fd403d7f7ce1  5df7453c8586fdd72d7f7cdf    1.0   \n",
      "0   5df7453c8586fd95957f7ce0  5df7453c8586fdd72d7f7cdf   21.5   \n",
      "0   5df746bd8586fdc82a7f7ce3  5df746bd8586fdf9187f7ce2   11.5   \n",
      "0   5e29acc29cb1c93d33fdb077  5e29acc29cb1c9382cfdb076   13.0   \n",
      "0   5e45b819da0180e7730c17fa  5e45b819da018053be0c17f9   10.0   \n",
      "0   5e4e9279da0180c0300c17fe  5e4e9279da018076ff0c17fd    6.2   \n",
      "\n",
      "                  product  quantity  \n",
      "0                                 1  \n",
      "0         Sandwich Zinger         1  \n",
      "0    Sandwich Baguette XL         1  \n",
      "0       Sandwich Tunisien         1  \n",
      "0       Sandwich Tunisien         1  \n",
      "0         Sandwich Alaska         1  \n",
      "0         Sandwich Zinger         1  \n",
      "0         Sandwich Zinger         1  \n",
      "0    Sandwich Baguette XL         1  \n",
      "0    Sandwich Baguette XL         1  \n",
      "0   Sandwich Philly Steak         1  \n",
      "0   Sandwich Philly Steak         1  \n",
      "0   Sandwich Philly Steak         1  \n",
      "0   Sandwich Philly Steak         1  \n",
      "0    Sandwich Baguette XL         1  \n",
      "0       Sandwich Tunisien         1  \n",
      "0         Sandwich Alaska         1  \n",
      "0   Sandwich Philly Steak         1  \n",
      "0   Sandwich Philly Steak         1  \n",
      "0           Salade Maison         1  \n",
      "0         Sandwich Zinger         1  \n",
      "0            Plat Escalop         1  \n",
      "0            Plat Escalop         1  \n",
      "0            Plat Escalop         1  \n",
      "0    Pizza Garden Special         1  \n",
      "0            Plat Escalop         1  \n",
      "0         Sandwich Zinger         1  \n",
      "0         Sandwich Zinger         1  \n",
      "0         Sandwich Zinger         1  \n",
      "0         Sandwich Zinger         2  \n",
      "..                    ...       ...  \n",
      "0         Sandwich Alaska         1  \n",
      "0         Sandwich Zinger         1  \n",
      "0    Sandwich Baguette XL         1  \n",
      "0         Sandwich Zinger         1  \n",
      "0    Sandwich Baguette XL         1  \n",
      "0   Sandwich Philly Steak         1  \n",
      "0   Sandwich Philly Steak         1  \n",
      "0   Sandwich Philly Steak         1  \n",
      "0   Sandwich Philly Steak         1  \n",
      "0    Sandwich Baguette XL         1  \n",
      "0   Sandwich Philly Steak         1  \n",
      "0   Sandwich Philly Steak         1  \n",
      "0       Sandwich Tunisien         1  \n",
      "0       Sandwich Tunisien         1  \n",
      "0      Pizza The Hawaiian         1  \n",
      "0            Plat Escalop         1  \n",
      "0   Sandwich Philly Steak         1  \n",
      "0           Plat Tunisien         1  \n",
      "0            Plat Escalop         1  \n",
      "0      Pizza The Hawaiian         1  \n",
      "0            Pizza Cheese         1  \n",
      "0    Pancake Fruits Secsn         1  \n",
      "0         Sandwich Zinger         1  \n",
      "0    Sandwich Baguette XL         1  \n",
      "0                       t        17  \n",
      "0         Sandwich Zinger         1  \n",
      "0         Sandwich Zinger         1  \n",
      "0         Sandwich Zinger         1  \n",
      "0         Sandwich Zinger         1  \n",
      "0   Sandwich Philly Steak         2  \n",
      "\n",
      "[66 rows x 5 columns]\n"
     ]
    }
   ],
   "source": [
    "for i in range(0,len(data1)):\n",
    "    res = ast.literal_eval(data1['orderItems'][i])\n",
    "    for j in range(0,len(res)):\n",
    "        for key,value in res[j].items():\n",
    "            if key == '_id':\n",
    "                k['_id'] = data1['_id'][i]\n",
    "                k['O_id'] = value\n",
    "            if key == 'price':\n",
    "                k['price'] = value\n",
    "            if key == 'product':\n",
    "                k['product'] = value\n",
    "            if key == 'quantity':\n",
    "                k['quantity'] = value\n",
    "        y=y.append(k)\n",
    "print(y)"
   ]
  },
  {
   "cell_type": "code",
   "execution_count": 315,
   "metadata": {},
   "outputs": [],
   "source": [
    "dt = pd.merge(data,y, on= '_id')"
   ]
  },
  {
   "cell_type": "code",
   "execution_count": 318,
   "metadata": {},
   "outputs": [],
   "source": [
    "dt.to_csv(r'C:\\Users\\Anil\\OneDrive\\Desktop\\result.csv')"
   ]
  },
  {
   "cell_type": "code",
   "execution_count": 319,
   "metadata": {},
   "outputs": [
    {
     "data": {
      "text/plain": [
       "(65, 15)"
      ]
     },
     "execution_count": 319,
     "metadata": {},
     "output_type": "execute_result"
    }
   ],
   "source": [
    "dt.shape"
   ]
  },
  {
   "cell_type": "code",
   "execution_count": 326,
   "metadata": {},
   "outputs": [
    {
     "data": {
      "text/html": [
       "<div>\n",
       "<style scoped>\n",
       "    .dataframe tbody tr th:only-of-type {\n",
       "        vertical-align: middle;\n",
       "    }\n",
       "\n",
       "    .dataframe tbody tr th {\n",
       "        vertical-align: top;\n",
       "    }\n",
       "\n",
       "    .dataframe thead th {\n",
       "        text-align: right;\n",
       "    }\n",
       "</style>\n",
       "<table border=\"1\" class=\"dataframe\">\n",
       "  <thead>\n",
       "    <tr style=\"text-align: right;\">\n",
       "      <th></th>\n",
       "      <th>__v</th>\n",
       "      <th>_score</th>\n",
       "      <th>total</th>\n",
       "      <th>price</th>\n",
       "      <th>quantity</th>\n",
       "    </tr>\n",
       "    <tr>\n",
       "      <th>customer</th>\n",
       "      <th></th>\n",
       "      <th></th>\n",
       "      <th></th>\n",
       "      <th></th>\n",
       "      <th></th>\n",
       "    </tr>\n",
       "  </thead>\n",
       "  <tbody>\n",
       "    <tr>\n",
       "      <th>5d499c467cdaeefdb118637a</th>\n",
       "      <td>0</td>\n",
       "      <td>9.0</td>\n",
       "      <td>146.3</td>\n",
       "      <td>72.8</td>\n",
       "      <td>26</td>\n",
       "    </tr>\n",
       "    <tr>\n",
       "      <th>5db99cf0b4606a3c1cb0e4ac</th>\n",
       "      <td>0</td>\n",
       "      <td>31.0</td>\n",
       "      <td>297.4</td>\n",
       "      <td>262.8</td>\n",
       "      <td>32</td>\n",
       "    </tr>\n",
       "    <tr>\n",
       "      <th>5dbc1c7db5ef1b7e87f99207</th>\n",
       "      <td>0</td>\n",
       "      <td>25.0</td>\n",
       "      <td>130.6</td>\n",
       "      <td>130.6</td>\n",
       "      <td>25</td>\n",
       "    </tr>\n",
       "  </tbody>\n",
       "</table>\n",
       "</div>"
      ],
      "text/plain": [
       "                          __v  _score  total  price  quantity\n",
       "customer                                                     \n",
       "5d499c467cdaeefdb118637a    0     9.0  146.3   72.8        26\n",
       "5db99cf0b4606a3c1cb0e4ac    0    31.0  297.4  262.8        32\n",
       "5dbc1c7db5ef1b7e87f99207    0    25.0  130.6  130.6        25"
      ]
     },
     "execution_count": 326,
     "metadata": {},
     "output_type": "execute_result"
    }
   ],
   "source": [
    "dt.groupby(['customer']).sum() #some thing like this will get your job done "
   ]
  },
  {
   "cell_type": "code",
   "execution_count": 262,
   "metadata": {},
   "outputs": [],
   "source": []
  },
  {
   "cell_type": "code",
   "execution_count": null,
   "metadata": {},
   "outputs": [],
   "source": []
  }
 ],
 "metadata": {
  "kernelspec": {
   "display_name": "Python 3",
   "language": "python",
   "name": "python3"
  },
  "language_info": {
   "codemirror_mode": {
    "name": "ipython",
    "version": 3
   },
   "file_extension": ".py",
   "mimetype": "text/x-python",
   "name": "python",
   "nbconvert_exporter": "python",
   "pygments_lexer": "ipython3",
   "version": "3.7.3"
  }
 },
 "nbformat": 4,
 "nbformat_minor": 2
}
